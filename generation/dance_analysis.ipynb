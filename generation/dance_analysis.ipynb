{
 "cells": [
  {
   "cell_type": "code",
   "execution_count": 2,
   "metadata": {},
   "outputs": [],
   "source": [
    "data_path = \"/Users/elijah/Downloads/dataset/DANCE_C_1/skeletons.json\"\n",
    "\n",
    "import json \n",
    "  \n",
    "# Opening JSON file \n",
    "f = open(data_path,) \n",
    "  \n",
    "# returns JSON object as  \n",
    "# a dictionary \n",
    "data = json.load(f) "
   ]
  },
  {
   "cell_type": "code",
   "execution_count": 7,
   "metadata": {},
   "outputs": [
    {
     "name": "stdout",
     "output_type": "stream",
     "text": [
      "3\n",
      "dict_keys(['length', 'center', 'skeletons'])\n"
     ]
    }
   ],
   "source": [
    "print (len (data))\n",
    "\n",
    "print (data.keys ())\n",
    "\n",
    "skeletons = data [\"skeletons\"]"
   ]
  },
  {
   "cell_type": "code",
   "execution_count": 8,
   "metadata": {},
   "outputs": [
    {
     "name": "stdout",
     "output_type": "stream",
     "text": [
      "4300\n"
     ]
    }
   ],
   "source": [
    "print (len (skeletons))"
   ]
  },
  {
   "cell_type": "code",
   "execution_count": 11,
   "metadata": {},
   "outputs": [
    {
     "name": "stdout",
     "output_type": "stream",
     "text": [
      "[[-7.408301795401229, 66.04629673841521, 0.18897878076971786], [3.565190636239393, 66.01926426771209, 0.3348133220905165], [-0.9931193002840359, 16.268342636852708, 2.4941561832660533], [-20.82949625340904, 44.33105015638395, -0.4298572406536234], [-21.791274512686385, 12.83308873060271, -4.868100343680967], [-18.640397132315293, 13.860078476696458, 5.369129575752625], [-11.72028757420982, 17.68753819349334, 20.19258233454169], [-7.237952674307479, 0.49198155286833867, -7.904288469291319], [-26.321486915030135, -38.39857630845979, -0.9883579120403425], [-26.593448890127792, -73.10840907213166, -8.424172960258115], [-19.890110267080917, -79.82592158433869, -11.52908092591821], [-36.225220359244005, -83.96032786485627, 3.4961376323932516], [11.004161583505024, 48.99046177747772, -1.053570924735654], [36.45873922022378, 42.27664341810271, -3.3890262470012793], [50.27023824366127, 52.711445664196475, 1.868487180733096], [59.64484151514564, 50.882344101696475, 13.289809812569034], [11.01794332178627, -0.679624892444167, 3.363007177376163], [7.869096886239397, -46.05127711412385, -2.356975923514952], [3.045842491708143, -78.60973963853792, -6.675559221244444], [-4.805958045401226, -84.47059817430451, -13.557329545951475], [4.954054771981582, -84.3091002952762, 8.192986692451845], [43.37402852686439, 51.08590855482146, 1.9291515484088766], [-15.736612952627791, 17.440681504040214, 22.703153623604187]]\n",
      "23\n"
     ]
    }
   ],
   "source": [
    "print (skeletons [0])\n",
    "\n",
    "print (len (skeletons [0]))"
   ]
  },
  {
   "cell_type": "code",
   "execution_count": null,
   "metadata": {},
   "outputs": [],
   "source": []
  }
 ],
 "metadata": {
  "kernelspec": {
   "display_name": "Python 3",
   "language": "python",
   "name": "python3"
  },
  "language_info": {
   "codemirror_mode": {
    "name": "ipython",
    "version": 3
   },
   "file_extension": ".py",
   "mimetype": "text/x-python",
   "name": "python",
   "nbconvert_exporter": "python",
   "pygments_lexer": "ipython3",
   "version": "3.7.3"
  }
 },
 "nbformat": 4,
 "nbformat_minor": 2
}
